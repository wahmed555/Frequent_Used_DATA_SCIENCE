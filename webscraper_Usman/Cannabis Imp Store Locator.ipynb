{
 "cells": [
  {
   "cell_type": "code",
   "execution_count": 1,
   "metadata": {},
   "outputs": [],
   "source": [
    "from bs4 import BeautifulSoup\n",
    "import requests"
   ]
  },
  {
   "cell_type": "code",
   "execution_count": 2,
   "metadata": {},
   "outputs": [],
   "source": [
    "page_count = 0"
   ]
  },
  {
   "cell_type": "code",
   "execution_count": 3,
   "metadata": {},
   "outputs": [
    {
     "data": {
      "text/plain": [
       "26"
      ]
     },
     "execution_count": 3,
     "metadata": {},
     "output_type": "execute_result"
    }
   ],
   "source": [
    "file = open('Wholesale CBD Suppliers Data.csv', 'w')\n",
    "file.write('Supplier|Contact|Location\\n')"
   ]
  },
  {
   "cell_type": "code",
   "execution_count": null,
   "metadata": {},
   "outputs": [],
   "source": [
    "while True:\n",
    "    \n",
    "    page_count += 1\n",
    "    my_url = \"https://www.cannabisimp.com/wholesale-cbd-suppliers/\"\n",
    "    \n",
    "    if page_count >1:\n",
    "        my_url = \"https://www.cannabisimp.com/wholesale-cbd-suppliers/page/{}/\".format(page_count)\n",
    "        \n",
    "    page = requests.get(my_url)\n",
    "    \n",
    "    # total 8 pages Found\n",
    "    if page_count >9:\n",
    "        break\n",
    "    \n",
    "    response = requests.get(my_url)\n",
    "    soup = BeautifulSoup(response.text, 'html.parser')\n",
    "    \n",
    "    container = soup.find_all('div', {'class':'listing-wrapper sfdsg'})\n",
    "    \n",
    "    for i in range(len(container)):\n",
    "        \n",
    "        try:\n",
    "            dealer_name = container[i].a.text\n",
    "        except:\n",
    "            dealer_name = 'NA' \n",
    "        \n",
    "        try:\n",
    "            contact = container[i].find('p',{'class':'phone'}).text\n",
    "        except:\n",
    "            contact = 'NA'\n",
    "            \n",
    "        try:\n",
    "            store_location = container[i].find('p',{'class':'address'}).text\n",
    "        except:\n",
    "            store_location = 'NA'\n",
    "            \n",
    "            \n",
    "        dealer_name = dealer_name.replace('\\n','').strip()\n",
    "        contact = contact.replace('\\n','').strip()\n",
    "        store_location = store_location.replace('\\n','').strip()\n",
    "        \n",
    "        file.write(dealer_name+'|'+contact+'|'+store_location+'\\n')\n",
    "        \n",
    "\n",
    "file.close()"
   ]
  },
  {
   "cell_type": "code",
   "execution_count": null,
   "metadata": {},
   "outputs": [],
   "source": []
  }
 ],
 "metadata": {
  "kernelspec": {
   "display_name": "Python 3",
   "language": "python",
   "name": "python3"
  },
  "language_info": {
   "codemirror_mode": {
    "name": "ipython",
    "version": 3
   },
   "file_extension": ".py",
   "mimetype": "text/x-python",
   "name": "python",
   "nbconvert_exporter": "python",
   "pygments_lexer": "ipython3",
   "version": "3.7.3"
  }
 },
 "nbformat": 4,
 "nbformat_minor": 2
}
