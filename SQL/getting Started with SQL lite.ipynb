{
 "cells": [
  {
   "cell_type": "markdown",
   "metadata": {},
   "source": [
    "## Deleting old and Creating a new Table"
   ]
  },
  {
   "cell_type": "code",
   "execution_count": 2,
   "metadata": {},
   "outputs": [],
   "source": [
    "import sqlite3\n",
    "conn = sqlite3.connect('music.sqlite')      #The connect operation makes a “connection” to the database stored in the file\n",
    "                                            #music.sqlite3 in the current directory.\n",
    "                                            #If the file does not exist, it will be created.\n",
    "                                            #The reason this is called a “connection” is that sometimes the database is stored \n",
    "                                            #on a separate “database server”\n",
    "                \n",
    "                \n",
    "cur = conn.cursor()                         # A cursor is like a file handle that we can use to perform operations on the data\n",
    "                                            # stored in the database.\n",
    "                                            \n",
    "        \n",
    "                                 # we can begin to execute commands on the contents of\n",
    "                                 # the database using the execute() method.\n",
    "    \n",
    "    \n",
    "cur.execute('DROP TABLE IF EXISTS Tracks')   #This SQL command removes the Tracks table from the database if it exists.  \n",
    "                                             # This pattern is simply to allow us to run the same program to create the Tracks\n",
    "                                             # table over and over again without causing an error.\n",
    "\n",
    "cur.execute('CREATE TABLE Tracks (title TEXT, plays INTEGER)')     #command creates a table named Tracks with a text column named\n",
    "                                                                   #title and an integer column named plays.\n",
    "\n",
    "conn.close()"
   ]
  },
  {
   "cell_type": "markdown",
   "metadata": {},
   "source": [
    "### Data into that table using the SQL INSERT operation.\n",
    "\n",
    "#### use commit() to force the data to be written to the database file."
   ]
  },
  {
   "cell_type": "code",
   "execution_count": 14,
   "metadata": {},
   "outputs": [],
   "source": [
    "import sqlite3\n",
    "conn = sqlite3.connect('music.sqlite')\n",
    "cur = conn.cursor()\n",
    "\n",
    "# SQL INSERT command indicates which table we are using and then defines a\n",
    "# new row by listing the fields we want to include (title, plays) followed by the\n",
    "# VALUES we want placed in the new row.\n",
    "\n",
    "cur.execute('INSERT INTO Tracks (title, plays) VALUES (?, ?)', ('Thunderstruck', 20)   )\n",
    "cur.execute('INSERT INTO Tracks (title, plays) VALUES (?, ?)', ('My Way', 15)          )\n",
    "\n",
    "#use commit() to force the data to be written to the database file.\n",
    "conn.commit()\n",
    "\n",
    "\n",
    "# print('Tracks:')\n",
    "# cur.execute('SELECT title, plays FROM Tracks')\n",
    "# for row in cur:\n",
    "#     print(row)\n",
    "# cur.execute('DELETE FROM Tracks WHERE plays < 100')\n",
    "# conn.commit()\n",
    "# # cur.close()"
   ]
  },
  {
   "cell_type": "markdown",
   "metadata": {},
   "source": [
    "### SELECT command to  retrieve the rows\n",
    "Then we use the SELECT command to retrieve the rows we just inserted from the\n",
    "table. On the SELECT command, we indicate which columns we would like (title,\n",
    "plays) and indicate which table we want to retrieve the data from. After we\n",
    "execute the SELECT statement, the cursor is something we can loop through in a\n",
    "for statement. For efficiency, the cursor does not read all of the data from the\n",
    "database when we execute the SELECT statement. Instead, the data is read on\n",
    "demand as we loop through the rows in the for statement."
   ]
  },
  {
   "cell_type": "code",
   "execution_count": 15,
   "metadata": {},
   "outputs": [
    {
     "name": "stdout",
     "output_type": "stream",
     "text": [
      "Tracks:\n",
      "('Thunderstruck', 20)\n",
      "('My Way', 15)\n"
     ]
    }
   ],
   "source": [
    "\n",
    "print('Tracks:')\n",
    "cur.execute('SELECT title, plays FROM Tracks')\n",
    "for row in cur:\n",
    "    print(row)  \n",
    "cur.execute('DELETE FROM Tracks WHERE plays < 100')\n",
    "conn.commit()\n",
    "cur.close()"
   ]
  },
  {
   "cell_type": "code",
   "execution_count": null,
   "metadata": {},
   "outputs": [],
   "source": []
  }
 ],
 "metadata": {
  "kernelspec": {
   "display_name": "Python 3",
   "language": "python",
   "name": "python3"
  },
  "language_info": {
   "codemirror_mode": {
    "name": "ipython",
    "version": 3
   },
   "file_extension": ".py",
   "mimetype": "text/x-python",
   "name": "python",
   "nbconvert_exporter": "python",
   "pygments_lexer": "ipython3",
   "version": "3.6.5"
  }
 },
 "nbformat": 4,
 "nbformat_minor": 2
}
